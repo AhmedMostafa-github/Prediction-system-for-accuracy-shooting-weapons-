{
  "nbformat": 4,
  "nbformat_minor": 0,
  "metadata": {
    "colab": {
      "name": "GraduationProject",
      "provenance": [],
      "collapsed_sections": [],
      "include_colab_link": true
    },
    "kernelspec": {
      "name": "python3",
      "display_name": "Python 3"
    },
    "accelerator": "GPU"
  },
  "cells": [
    {
      "cell_type": "markdown",
      "metadata": {
        "id": "view-in-github",
        "colab_type": "text"
      },
      "source": [
        "<a href=\"https://colab.research.google.com/github/AhmedMostafa-github/Prediction-system-for-accuracy-shooting-weapons-/blob/main/GraduationProject.ipynb\" target=\"_parent\"><img src=\"https://colab.research.google.com/assets/colab-badge.svg\" alt=\"Open In Colab\"/></a>"
      ]
    },
    {
      "cell_type": "markdown",
      "metadata": {
        "id": "ICHTCyf7ND1V"
      },
      "source": [
        "<h1>Dataset and Libraries</h1>"
      ]
    },
    {
      "cell_type": "code",
      "metadata": {
        "id": "IQilpWh_NDr9"
      },
      "source": [
        "from google.colab import drive\n",
        "drive.mount('/drive')"
      ],
      "execution_count": null,
      "outputs": []
    },
    {
      "cell_type": "code",
      "metadata": {
        "id": "qlAJflmEM5wh"
      },
      "source": [
        "from keras.callbacks import ModelCheckpoint\n",
        "from keras.models import *\n",
        "from keras.layers import Input, Dense\n",
        "from sklearn.model_selection import train_test_split\n",
        "from sklearn.linear_model import *\n",
        "from sklearn.svm import *\n",
        "from sklearn.neighbors import KNeighborsClassifier\n",
        "from sklearn import svm\n",
        "import numpy as np\n",
        "import pandas as pd"
      ],
      "execution_count": null,
      "outputs": []
    },
    {
      "cell_type": "code",
      "metadata": {
        "id": "ouWljVtgRQVH"
      },
      "source": [
        "dataset = pd.read_csv('../drive/My Drive/dataset.csv')\n",
        "target = dataset.iloc[:,6]\n",
        "features = dataset.iloc[:,0:6]\n",
        "featureTrain,featureTest,targetTrain,targetTest = train_test_split(features,target,test_size=0.005,shuffle=True)"
      ],
      "execution_count": null,
      "outputs": []
    },
    {
      "cell_type": "markdown",
      "metadata": {
        "id": "KWjeADCSMkju"
      },
      "source": [
        "<h1>Pre-Processing</h1>"
      ]
    },
    {
      "cell_type": "code",
      "metadata": {
        "id": "G78aExAcIiwi"
      },
      "source": [
        "my_model = LinearRegression()\n",
        "my_model = my_model.fit(X=featureTrain, y=targetTrain)"
      ],
      "execution_count": null,
      "outputs": []
    },
    {
      "cell_type": "code",
      "metadata": {
        "id": "-_28g55xKOzr"
      },
      "source": [
        "clf = svm.SVR()\n",
        "clf.fit(X=featureTrain, y=targetTrain)"
      ],
      "execution_count": null,
      "outputs": []
    },
    {
      "cell_type": "code",
      "metadata": {
        "id": "tPzz30xMKghU"
      },
      "source": [
        "test_svm = clf.predict(featureTest)\n",
        "acc1 = []\n",
        "x=targetTest.values\n",
        "for i in range(test_svm.size):\n",
        "  diff = np.abs(test_svm[i] - x[i])\n",
        "  if diff >0:\n",
        "    perDiff = (diff/x[i])*100\n",
        "    acc1.append(100-np.abs(perDiff))\n",
        "  else:\n",
        "      acc1.append(np.abs(100))"
      ],
      "execution_count": null,
      "outputs": []
    },
    {
      "cell_type": "code",
      "metadata": {
        "id": "btYKxb8aIu5n"
      },
      "source": [
        "test_pred = my_model.predict(featureTest)\n",
        "acc = []\n",
        "x=targetTest.values\n",
        "for i in range(test_pred.size):\n",
        "  diff = np.abs(test_pred[i] - x[i])\n",
        "  if diff >0:\n",
        "    perDiff = (diff/x[i])*100\n",
        "    acc.append(100-np.abs(perDiff))\n",
        "  else:\n",
        "      acc.append(np.abs(100))"
      ],
      "execution_count": null,
      "outputs": []
    },
    {
      "cell_type": "markdown",
      "metadata": {
        "id": "WTH5WVLhMqkh"
      },
      "source": [
        "<h1>Model</h1>"
      ]
    },
    {
      "cell_type": "code",
      "metadata": {
        "id": "AhvHIN8fMvx8"
      },
      "source": [
        "X = featureTrain.values\n",
        "Y = targetTrain.values\n",
        "model = Sequential()\n",
        "model.add(Dense(16, input_dim=6, kernel_initializer='uniform', activation='relu'))\n",
        "model.add(Dense(32, kernel_initializer='uniform', activation='relu'))\n",
        "model.add(Dense(200, kernel_initializer='uniform', activation='relu'))\n",
        "model.add(Dense(100, kernel_initializer='uniform', activation='relu'))\n",
        "model.add(Dense(32, kernel_initializer='uniform', activation='relu'))\n",
        "model.add(Dense(1, kernel_initializer='uniform', activation='sigmoid'))\n",
        "# Compile model\n",
        "model.compile(loss='mse', optimizer='adam', metrics=['accuracy'])\n",
        "# checkpoint\n",
        "filepath=\"../drive/My Drive/weights.best.hdf5\"\n",
        "checkpoint = ModelCheckpoint(filepath, monitor='val_acc', verbose=1, save_best_only=True, mode='max')\n",
        "callbacks_list = [checkpoint]\n",
        "# Fit the model\n",
        "model.fit(X, Y, epochs=150, batch_size=10, callbacks=callbacks_list, verbose=1)"
      ],
      "execution_count": null,
      "outputs": []
    },
    {
      "cell_type": "markdown",
      "metadata": {
        "id": "tB0-rASoMw7E"
      },
      "source": [
        "<h1>Results</h1>"
      ]
    },
    {
      "cell_type": "code",
      "metadata": {
        "id": "MAgGL38CrDlp"
      },
      "source": [
        "predictions = model.predict(featureTest)\n",
        "acc2 = []\n",
        "x=targetTest.values\n",
        "for i in range(predictions.size):\n",
        "  diff = np.abs(predictions[i] - x[i])\n",
        "  if diff >0:\n",
        "    perDiff = (diff/x[i])*100\n",
        "    acc2.append(100-np.abs(perDiff))\n",
        "  else:\n",
        "      acc2.append(np.abs(100))"
      ],
      "execution_count": null,
      "outputs": []
    },
    {
      "cell_type": "code",
      "metadata": {
        "id": "ujiLJwaU-Gnb"
      },
      "source": [
        "acc1"
      ],
      "execution_count": null,
      "outputs": []
    },
    {
      "cell_type": "code",
      "metadata": {
        "id": "qCJhJgsmCt-L"
      },
      "source": [
        "acc2"
      ],
      "execution_count": null,
      "outputs": []
    },
    {
      "cell_type": "code",
      "metadata": {
        "id": "l7VJYVoa-9Q4"
      },
      "source": [
        "print('SVM accuracy: '+str(np.mean(acc1)))\n",
        "print('L-R accuracy: '+str(np.mean(acc)))\n",
        "print('ANN accuracy: '+str(np.mean(acc2)))"
      ],
      "execution_count": null,
      "outputs": []
    }
  ]
}